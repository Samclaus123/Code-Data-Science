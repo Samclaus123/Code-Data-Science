{
 "cells": [
  {
   "cell_type": "markdown",
   "id": "8548668d",
   "metadata": {},
   "source": [
    "\n",
    "# EEG Data Analysis Assignment\n"
   ]
  },
  {
   "cell_type": "markdown",
   "id": "a9693f3b",
   "metadata": {},
   "source": [
    "In this assignment you will analyze the EEG data that you collected yourself. There are different approaches to preprocessing. Here we will model our pipeline after this recent paper (check Methods): https://pmc.ncbi.nlm.nih.gov/articles/PMC10659264/pdf/nihpp-2023.11.07.566051v2.pdf."
   ]
  },
  {
   "cell_type": "markdown",
   "id": "fa9748b9",
   "metadata": {},
   "source": [
    "## Part 1: Put all data in BIDS format"
   ]
  },
  {
   "cell_type": "code",
   "execution_count": null,
   "id": "7e84ec3e",
   "metadata": {},
   "outputs": [],
   "source": [
    "import os, glob\n",
    "import numpy as np\n",
    "import pandas as pd\n",
    "import matplotlib.pyplot as plt\n",
    "import mne\n",
    "from mne_bids import BIDSPath, write_raw_bids, read_raw_bids\n",
    "\n",
    "# Define directories:\n",
    "project_dir = os.getcwd()\n",
    "print(project_dir)\n",
    "raw_dir = os.path.join(project_dir, 'raw')\n",
    "print(raw_dir)\n",
    "bids_dir = os.path.join(project_dir, 'bids')\n",
    "\n",
    "# Define event IDs:\n",
    "event_id = {\n",
    "    'A/standard': 1,\n",
    "    'A/oddball':  2,\n",
    "    'B/standard': 3,\n",
    "    'B/oddball':  4,\n",
    "}\n",
    "\n",
    "# subject ID\n",
    "subjects = [\"01\", '02', '03', '04', '05','06']"
   ]
  },
  {
   "cell_type": "markdown",
   "id": "0bcf7825",
   "metadata": {},
   "source": [
    "🔥 Please loop over filenames and put all raw data in BIDS format (look up what this means). You can use the functions ```BIDSPath``` and ```write_raw_bids```. We need to take care of a couple of things.\n",
    "\n",
    "First, after loading the raw EEG data, we need to change channels 'M1', 'M2', 'EXG7' and 'EXG8' to type 'misc', and channels 'UP', 'DOWN', 'LEFT' and 'RIGH' to type 'eog'. We also need to set the right montage ('biosemi64').\n",
    "\n",
    "Second, observe that ```write_raw_bids``` takes the \"events\" and \"event_id\" parameters. During EEG acquisition we always sent the same trigger (2) at every sound presentation. However, we would like to include information about state and stimulus, as per the dictionary called \"event_id\" (see previous cell). Please make sure to: (i) find all events in the eeg file, (ii) read information about state and stimulus ID in the corresponding \"*_events.tsv\" file, (iii) update the events according to \"event_id\", (iv) pass the \"events\" and \"event_id\" in ```write_raw_bids```.\n",
    "\n",
    "Third, look at all the json sidecar files, and check whether all information is correct. \n"
   ]
  },
  {
   "cell_type": "code",
   "execution_count": null,
   "id": "d843e7a8",
   "metadata": {},
   "outputs": [],
   "source": [
    "def rawtobids(raw_dir, bids_dir, subjects, event_id):\n",
    "    \"\"\"\n",
    "    Converteer alle .bdf bestanden in raw_dir naar BIDS in bids_dir.\n",
    "    Voor elk bestand:\n",
    "      - zet opgegeven kanaaltypes (misc, eog)\n",
    "      - zet montage biosemi64\n",
    "      - vind STIM-events in raw\n",
    "      - lees corresponderende *_events.tsv (zelfde basename + '_events.tsv')\n",
    "      - filter phase == \"2\" en map (state, frequency) naar de juiste event_id\n",
    "      - zet de derde kolom van de events-array naar die nieuwe codes (alleen voor de fase2-triggers)\n",
    "      - schrijf naar BIDS met write_raw_bids(..., events_data=events_array, event_id=event_id)\n",
    "    \"\"\"\n",
    "    event_id = event_id\n",
    "    bdf_files = sorted(glob.glob(os.path.join(raw_dir, \"*.bdf\")))\n",
    "    tsv_files = sorted(glob.glob(os.path.join(raw_dir, \"*.tsv\")))\n",
    "    print(\"Gevonden .bdf bestanden:\", bdf_files)\n",
    "    print(\"Gevonden .bdf bestanden:\", len(bdf_files))\n",
    "    print(\"Gevonden .tsv bestanden:\", tsv_files)\n",
    "    print(\"Gevonden .tsv bestanden:\", len(tsv_files))\n",
    "\n",
    "    for i, bdf_file in enumerate(bdf_files):\n",
    "        print(\"\\nVerwerken:\", bdf_file)\n",
    "        # lees raw bdf files in\n",
    "        raw = mne.io.read_raw_bdf(bdf_file, preload=True)\n",
    "\n",
    "        # Types omzetten op basis van kanaal\n",
    "        misc = ['M1', 'M2', 'EXG7', 'EXG8']\n",
    "        raw.set_channel_types({ch: 'misc' for ch in misc if ch in raw.ch_names})\n",
    "        eog = ['UP', 'DOWN', 'LEFT', 'RIGHT']\n",
    "        raw.set_channel_types({ch: 'eog' for ch in eog if ch in raw.ch_names})\n",
    "\n",
    "        # montage biosemi64\n",
    "        raw.set_montage('biosemi64', on_missing='ignore')\n",
    "\n",
    "        # -- vind events in raw (STIM/trigger-kanaal). Gebruik veilige find_events call --\n",
    "        try:\n",
    "            all_events = mne.find_events(raw, shortest_event=1, verbose=False)\n",
    "        except Exception as exc:\n",
    "            print(f\"  Kan events niet vinden met mne.find_events() voor {bdf_file}: {exc}\")\n",
    "            all_events = np.empty((0, 3), dtype=int)\n",
    "\n",
    "        # Filter originele triggers: we verwachten tijdens stimuli trigger value == 2\n",
    "        stim_mask = (all_events[:, 2] == 2) if all_events.size else np.array([], dtype=bool)\n",
    "        stim_events = all_events[stim_mask] if stim_mask.size else np.empty((0, 3), dtype=int)\n",
    "        print(f\"  Aantal gevonden stimulus-triggers (waarde==2): {len(stim_events)}\")\n",
    "\n",
    "        # Extract prefix from BDF file (e.g., '1_2_' from '1_2_eeg.bdf')\n",
    "        prefix = os.path.basename(bdf_file).split('_eeg.bdf')[0] + '_'\n",
    "        events_tsv_path = None\n",
    "\n",
    "        # Search for matching events file\n",
    "        for file_path in tsv_files:\n",
    "            file_name = os.path.basename(file_path)\n",
    "            if file_name.startswith(prefix) and file_name.endswith('_events.tsv'):\n",
    "                events_tsv_path = file_path\n",
    "                break\n",
    "\n",
    "        if events_tsv_path is None:\n",
    "            print(f\"  Waarschuwing: events file niet gevonden voor prefix {prefix}. Schrijf BIDS zonder aangepaste events.\")\n",
    "            events_array_to_write = None\n",
    "        else:\n",
    "            # Read and filter the events file\n",
    "            df = pd.read_csv(events_tsv_path, sep='\\t', dtype=str)\n",
    "            filtered = df[df[\"phase\"].str.strip() == \"2\"].copy()\n",
    "            print(f\"  Aantal events in {os.path.basename(events_tsv_path)} met phase==2: {len(filtered)}\")\n",
    "\n",
    "            # Maak een nieuwe lijst voor de aangepaste event codes zoals in de dictionary\n",
    "            new_event_codes = []\n",
    "            if not filtered.empty:\n",
    "                # zet veilig om naar floats/integers waar nodig\n",
    "                # (we volgen hetzelfde logic als in jouw oorspronkelijke code)\n",
    "                for st_str, fq_str in zip(filtered[\"state\"], filtered[\"freq\"]):\n",
    "                    try:\n",
    "                        st = float(str(st_str).strip())\n",
    "                    except:\n",
    "                        st = np.nan\n",
    "                    try:\n",
    "                        fq = float(str(fq_str).strip())\n",
    "                    except:\n",
    "                        fq = np.nan\n",
    "\n",
    "                    if st == 1:  # reeks A\n",
    "                        if fq == 2000:\n",
    "                            new_event_codes.append(event_id[\"A/standard\"])\n",
    "                        else:\n",
    "                            new_event_codes.append(event_id[\"A/oddball\"])\n",
    "                    elif st == -1:  # reeks B\n",
    "                        if fq == 1000:\n",
    "                            new_event_codes.append(event_id[\"B/standard\"])\n",
    "                        else:\n",
    "                            new_event_codes.append(event_id[\"B/oddball\"])\n",
    "                    else:\n",
    "                        new_event_codes.append(0)  # ongedefinieerd -> code 0 (volgt jouw eerdere aanpak)\n",
    "\n",
    "            n_triggers = len(stim_events)\n",
    "            n_filtered = len(new_event_codes)\n",
    "\n",
    "            # code om errors te voorkomen: (dit was een issue een paar keer)\n",
    "            # 1. Het controleert of er stim-events zijn gevonden in de raw data.\n",
    "            # 2. Als er geen stim-events zijn, wordt events_array_to_write op None gezet.\n",
    "            # 3. Als er wel stim-events zijn, maar het aantal gevonden stim-events verschilt van het aantal gefilterde phase2-rows,\n",
    "            #    wordt er een waarschuwing gegeven en worden de arrays afgestemd op de minimale lengte.\n",
    "            if n_triggers == 0:\n",
    "                print(\"  Geen stim-events gevonden in raw; geen events meegeven aan write_raw_bids.\")\n",
    "                events_array_to_write = None\n",
    "            else:\n",
    "                if n_triggers != n_filtered:\n",
    "                    print(f\"  Let op: aantal gevonden stim-events ({n_triggers}) ≠ aantal gefilterde phase2-rows ({n_filtered}).\")\n",
    "                    print(\"  Ik zal de arrays afstemmen op de minimale lengte (geen fouten raise).\")\n",
    "                n_use = min(n_triggers, n_filtered)\n",
    "                if n_use == 0:\n",
    "                    events_array_to_write = None\n",
    "                else:\n",
    "                    events_array_to_write = stim_events[:n_use].copy()\n",
    "                    events_array_to_write[:, 2] = np.array(new_event_codes[:n_use], dtype=int)\n",
    "                    print(f\"  Events array klaargezet met {n_use} events (kolom 3 aangepast).\")\n",
    "\n",
    "        # BIDSPath maken (subject index i -> subjects[i])\n",
    "        bids_path = BIDSPath(subject=subjects[i],\n",
    "                                root=bids_dir,\n",
    "                                datatype='eeg',\n",
    "                                extension='.bdf',\n",
    "                                suffix='eeg',\n",
    "                                task='experiment')\n",
    "\n",
    "        # Schrijf de events naar BIDS\n",
    "        if events_array_to_write is None:   # als events ontbreken alleen bdf schrijven\n",
    "            write_raw_bids(raw, bids_path=bids_path, overwrite=True, allow_preload=True, format='EDF')\n",
    "            print(f\"  {os.path.basename(bdf_file)} geschreven naar BIDS (zonder events).\")\n",
    "        else:\n",
    "            write_raw_bids(raw,\n",
    "                            bids_path=bids_path,\n",
    "                            events = events_array_to_write,\n",
    "                            event_id=event_id,\n",
    "                            overwrite=True,\n",
    "                            allow_preload=True,\n",
    "                            format='EDF')\n",
    "            print(f\"  {os.path.basename(bdf_file)} geschreven naar BIDS (met events).\")\n",
    "    print(\"\\nKlaar met alle bestanden inbids zetten.\")\n",
    "\n",
    "# run functie\n",
    "rawtobids(raw_dir=raw_dir, bids_dir=bids_dir, subjects=subjects, event_id=event_id)"
   ]
  },
  {
   "cell_type": "markdown",
   "id": "15eca94d",
   "metadata": {},
   "source": [
    "👉 **Question:** Why would we bother with storing our data in BIDS format?\n",
    "\n",
    "**Answer:**"
   ]
  },
  {
   "cell_type": "markdown",
   "id": "a19abd71",
   "metadata": {},
   "source": [
    "\n",
    "## Part 2: Preprocess example data set\n",
    "\n",
    "🔥 Please take an example block and load the eeg and events data (from the BIDS directory)."
   ]
  },
  {
   "cell_type": "code",
   "execution_count": null,
   "id": "a32fa599",
   "metadata": {},
   "outputs": [],
   "source": [
    "#load the eeg and events data (from the BIDS directory).\n",
    "# take an example block and load the eeg and events data from the BIDS directory\n",
    "\n",
    "# path to first participant file\n",
    "bids_path = BIDSPath(subject=subjects[0],\n",
    "                             root=bids_dir,\n",
    "                             datatype='eeg',\n",
    "                             extension='.edf',\n",
    "                             suffix='eeg',\n",
    "                             task='experiment')\n",
    "# load the data from the first participant\n",
    "raw = read_raw_bids(bids_path=bids_path, verbose=False) \n",
    "print(bids_path)\n",
    "\n",
    "if raw is None:\n",
    "    print(\"Failed to load raw data from BIDS path:\", bids_path)\n",
    "elif raw:\n",
    "    print(\"Raw data successfully loaded from BIDS path of participant:\",str(str(bids_path).split('_task-experiment_eeg.bdf'))[70:76]  )\n",
    "\n",
    "# isolate events from the raw data\n",
    "events, event_id = mne.events_from_annotations(raw)\n",
    "if not events.size:\n",
    "    print(\"Geen events gevonden in de data.\")\n",
    "elif events.size:\n",
    "    print(\"Events geladen als events:.\")\n",
    "print('events',events)\n",
    "print('event_id',event_id)"
   ]
  },
  {
   "cell_type": "markdown",
   "id": "12191d7f",
   "metadata": {},
   "source": [
    "🔥 Please plot the raw data. Show examples of (i) clean data, (ii) blinks (look at eog channels), and (iii) muscle artefacts. Print the shape of the data, and indicate what the dimensions correspond to. Print all channel names. Print all channel types."
   ]
  },
  {
   "cell_type": "code",
   "execution_count": null,
   "id": "ab66b120",
   "metadata": {},
   "outputs": [],
   "source": [
    "# Your code goes here. Please add comments.\n",
    "# Irem"
   ]
  },
  {
   "cell_type": "markdown",
   "id": "514beef8",
   "metadata": {},
   "source": [
    "👉 **Question:** What kind of information can you extract just from visually inspecting raw EEG traces?\n",
    "\n",
    "**Answer:**"
   ]
  },
  {
   "cell_type": "markdown",
   "id": "0ba77dac",
   "metadata": {},
   "source": [
    "🔥 Please set the channels 'M1', 'M2', 'EXG7' and 'EXG8' to type 'misc', and channels 'UP', 'DOWN', 'LEFT' and 'RIGH' to type 'eog'. Also set the right montage, and plot this. \n",
    "\n",
    "PS: Yes, it is annoying that we did this before. This information did end up correctly in the json sidecar files (check this), but not in the *eeg.bdf files."
   ]
  },
  {
   "cell_type": "code",
   "execution_count": null,
   "id": "202cde29",
   "metadata": {},
   "outputs": [],
   "source": [
    "# Your code goes here. Please add comments.\n",
    "# Irem\n",
    "# Types omzetten op basis van kanaal\n",
    "misc = ['M1', 'M2', 'EXG7', 'EXG8']\n",
    "raw.set_channel_types({ch: 'misc' for ch in misc if ch in raw.ch_names})\n",
    "eog = ['UP', 'DOWN', 'LEFT', 'RIGHT']\n",
    "raw.set_channel_types({ch: 'eog' for ch in eog if ch in raw.ch_names})\n",
    "\n",
    "# montage biosemi64\n",
    "raw.set_montage('biosemi64')\n",
    "\n",
    "# Plot het blokje ruwe data\n",
    "raw.plot()"
   ]
  },
  {
   "cell_type": "markdown",
   "id": "865bcff2",
   "metadata": {},
   "source": [
    "🔥 Please re-reference the EEG data to the average of the two mastoids."
   ]
  },
  {
   "cell_type": "code",
   "execution_count": null,
   "id": "ee5eb871",
   "metadata": {},
   "outputs": [],
   "source": [
    "# Your code goes here. Please add comments.\n",
    "# Roderik\n",
    "##checkt of er er M1 en M2 in raw zitten\n",
    "if 'M1' in raw.ch_names and 'M2' in raw.ch_names:\n",
    "    raw.set_channel_types({'M1': 'eeg', 'M2': 'eeg'})  # maakt het type van M1 en M2 eeg\n",
    "\n",
    "    # zet het gemiddelde als reference\n",
    "    raw.set_eeg_reference(ref_channels=['M1', 'M2'])\n",
    "    print(\"Re-referenced to average of M1 and M2.\")\n",
    "else:\n",
    "    print(\"M1/M2 not found in data. Cannot apply mastoid reference.\")"
   ]
  },
  {
   "cell_type": "markdown",
   "id": "bb1f6b9d",
   "metadata": {},
   "source": [
    "👉 **Question:** Why would you want to re-reference the EEG data? What are common approaches? What are advantages and disadvantages of each?\n",
    "\n",
    "**Answer:**"
   ]
  },
  {
   "cell_type": "markdown",
   "id": "f3c6d32c",
   "metadata": {},
   "source": [
    "🔥 Please combine eog channels into bipolar horizontal (\"HEOG\") and vertical (\"VEOG\") EOG derivations. Check if the resulting channel type is correct."
   ]
  },
  {
   "cell_type": "code",
   "execution_count": null,
   "id": "7739f95e",
   "metadata": {},
   "outputs": [],
   "source": [
    "# Your code goes here. Please add comments.\n",
    "# Roderik\n",
    "#combineert de verschillende oog componenten\n",
    "raw = mne.set_bipolar_reference(raw,\n",
    "                                anode='LEFT', cathode='RIGHT',\n",
    "                                ch_name='HEOG', copy=False)\n",
    "\n",
    "raw = mne.set_bipolar_reference(raw,\n",
    "                                anode='UP', cathode='DOWN',\n",
    "                                ch_name='VEOG', copy=False)\n",
    "\n",
    "# na het combineren worden  het resultaat van channel type verandert naar eog\n",
    "raw.set_channel_types({'HEOG': 'eog', 'VEOG': 'eog'})\n",
    "\n",
    "# print ['HEOG', 'VEOG'] als deze erin zitten samen met type van channel\n",
    "print(\"New EOG channels added:\")\n",
    "for ch, ch_type in zip(raw.ch_names, raw.get_channel_types()):\n",
    "    if ch in ['HEOG', 'VEOG']:\n",
    "        print(f\"  {ch}: {ch_type}\")\n",
    "        "
   ]
  },
  {
   "cell_type": "markdown",
   "id": "9377ed8a",
   "metadata": {},
   "source": [
    "👉 **Question:** Why do we take the difference between for example the UP and DOWN electrode?\n",
    "\n",
    "**Answer:** "
   ]
  },
  {
   "cell_type": "markdown",
   "id": "a1066abe",
   "metadata": {},
   "source": [
    "🔥 Please apply a bandpass filter. Look up what a bandpass filter is, and use common cutoffs for EEG."
   ]
  },
  {
   "cell_type": "code",
   "execution_count": null,
   "id": "5a842e92",
   "metadata": {},
   "outputs": [],
   "source": [
    "# Your code goes here. Please add comments.\n",
    "# Roderik\n",
    "import matplotlib.pyplot as plt\n",
    "# Your code goes here. Please add comments.\n",
    "# MNE heeft deze functie om bandpass filters toe te passen\n",
    "raw.filter(l_freq=0.1, h_freq=30.0)\n",
    "\n",
    "#Check resultaat\n",
    "# maakt kopie van raw\n",
    "raw_copy = raw.copy()\n",
    "\n",
    "# power spectrum voor het filter\n",
    "fig_before = raw_copy.plot_psd(fmax=60, show=False)\n",
    "plt.suptitle(\"Power Spectral Density (before filtering)\", fontsize=14)\n",
    "\n",
    "# filter\n",
    "raw_copy.filter(l_freq=0.1, h_freq=30.0)\n",
    "\n",
    "# power spectrum na het filter\n",
    "fig_after = raw_copy.plot_psd(fmax=60, show=False)\n",
    "plt.suptitle(\"Power Spectral Density (after 0.1–30 Hz bandpass)\", fontsize=14)\n",
    "\n",
    "plt.show()"
   ]
  },
  {
   "cell_type": "markdown",
   "id": "6ad8a0c0",
   "metadata": {},
   "source": [
    "👉 **Question:** Why should we filter EEG data? What type of temporal filters are typically applied, and what are common cut-offs? \n",
    "\n",
    "**Answer:**"
   ]
  },
  {
   "cell_type": "markdown",
   "id": "f58669cd",
   "metadata": {},
   "source": [
    "🔥 Please downsample the EEG data to 250Hz."
   ]
  },
  {
   "cell_type": "code",
   "execution_count": null,
   "id": "7ff6c1a3",
   "metadata": {},
   "outputs": [],
   "source": [
    "# Your code goes here. Please add comments.\n",
    "# Mernan\n",
    "# Downsample de data naar 250 Hz\n",
    "\n",
    "raw_downsampled = raw.resample(250, npad='auto')\n",
    "\n",
    "# Om te controleren of het downsamplen gelukt is \n",
    "print(\"Original sampling rate:\", raw.info['sfreq'])\n",
    "print(\"Resampled sampling rate:\", raw_downsampled.info['sfreq'])"
   ]
  },
  {
   "cell_type": "markdown",
   "id": "0d9eefd1",
   "metadata": {},
   "source": [
    "👉 **Question:** What are the advantages of downsampling, and why does 250Hz makes sense?\n",
    "\n",
    "**Answer:**"
   ]
  },
  {
   "cell_type": "markdown",
   "id": "7dc72a75",
   "metadata": {},
   "source": [
    "🔥 Please perform independent component analysis and plot the components."
   ]
  },
  {
   "cell_type": "code",
   "execution_count": null,
   "id": "ec6296a0",
   "metadata": {},
   "outputs": [],
   "source": [
    "# Your code goes here. Please add comments.\n",
    "# Sam"
   ]
  },
  {
   "cell_type": "markdown",
   "id": "910e6352",
   "metadata": {},
   "source": [
    "👉 **Question:** What does this plot show?  \n",
    "\n",
    "**Answer:** \n"
   ]
  },
  {
   "cell_type": "markdown",
   "id": "ed91fabc",
   "metadata": {},
   "source": [
    "🔥 Please remove components associated with blinks and eye movements. Include diagnostic figures (check with plotting methods exists for ica objects)."
   ]
  },
  {
   "cell_type": "code",
   "execution_count": null,
   "id": "1a0490ed",
   "metadata": {},
   "outputs": [],
   "source": [
    "# Your code goes here. Please add comments.\n",
    "# Mernan\n",
    "#Remove blinks and eye movement artifacts with ICA\n",
    "from mne.preprocessing import ICA \n",
    "\n",
    "# Fit ICA\n",
    "ica = ICA(n_components=15, random_state=97, max_iter='auto') #15 componenten gekozen omdat dat de meest gebruikte is kan veranderd worden maar het is tussen 10-20 is het volgens het internet\n",
    "ica.fit(raw_downsampled) # fit op resampled data\n",
    "\n",
    "ica.plot_components() # bekijk de componenten\n",
    "\n",
    "# Zoek EOG-artifacten \n",
    "## eog_indices kijkt naar de componenten die corresponderen met oogbewegingen en die we willen verwijderen\n",
    "## eog_scores geeft een score aan hoe goed elke component correleert met de EOG dus hoe hoger de score hoe beter die component correleert met oogbewegingen\n",
    "eog_indices, eog_scores = ica.find_bads_eog(raw_downsampled, ch_name=['VEOG', 'HEOG']) \n",
    "\n",
    "# Exclude EOG artifacts\n",
    "ica.exclude = eog_indices\n",
    "\n",
    "#Plot de eigenschappen van de uitgesloten componenten\n",
    "ica.plot_scores(eog_scores)\n",
    "ica.plot_properties(raw_downsampled, picks=ica.exclude)\n",
    "plt.show()\n",
    "\n",
    "# pas ICA toe op de resampled data\n",
    "raw_cleaned = raw_downsampled.copy()\n",
    "ica.apply(raw_cleaned)"
   ]
  },
  {
   "cell_type": "markdown",
   "id": "bf73d4e6",
   "metadata": {},
   "source": [
    "👉 **Question:** What do these plot show?  \n",
    "\n",
    "**Answer:** "
   ]
  },
  {
   "cell_type": "markdown",
   "id": "cbc39c26",
   "metadata": {},
   "source": [
    "🔥 Please plot the same bit of data, before and after ica-based artefact removal."
   ]
  },
  {
   "cell_type": "code",
   "execution_count": null,
   "id": "0d1c95f5",
   "metadata": {},
   "outputs": [],
   "source": [
    "# Your code goes here. Please add comments.\n",
    "# Irem"
   ]
  },
  {
   "cell_type": "markdown",
   "id": "d178ae77",
   "metadata": {},
   "source": [
    "\n",
    "👉 **Question:** What kinds of artifacts can ICA help to remove in EEG data? Why do we want to do this? \n",
    "\n",
    "**Answer:**"
   ]
  },
  {
   "cell_type": "markdown",
   "id": "15e68e2e",
   "metadata": {},
   "source": [
    "🔥 Please epoch the cleaned data (make sure to use \"event_id\"), by cutting out segments from 500ms before each sound to 1000ms after. Plot the resulting epochs object."
   ]
  },
  {
   "cell_type": "code",
   "execution_count": null,
   "id": "ab611da5",
   "metadata": {},
   "outputs": [],
   "source": [
    "# Your code goes here. Please add comments.\n",
    "# Mernan\n",
    "# Epoching de data rond 500ms voor en 1000ms na stimulus\n",
    "# We gebruiken de events die we in de BIDS stap hebben toegevoegd\n",
    "events, event_id = mne.events_from_annotations(raw_cleaned)\n",
    "\n",
    "# Maak epochs rond de events\n",
    "epochs = mne.Epochs(raw_cleaned,\n",
    "                    events=events,\n",
    "                    event_id=event_id,\n",
    "                    tmin=-0.5, tmax=1.0,  # 500 ms voor tot 1000 ms na stimulus\n",
    "                    baseline=(None),   # geen baseline correctie kunnen we nog eventueel veranderen en wel een baseline doen\n",
    "                    preload=True)   \n",
    "\n",
    "# Om te kijken hoeveel epochs er zijn\n",
    "print(\"Number of epochs:\", len(epochs))\n",
    "\n",
    "# Bekijk de eerste 20 epochs\n",
    "epochs.plot(n_epochs=20)"
   ]
  },
  {
   "cell_type": "markdown",
   "id": "027ccfdf",
   "metadata": {},
   "source": [
    "\n",
    "👉 **Question:** Why do we extract epochs relative to events?  \n",
    "\n",
    "**Answer:**\n"
   ]
  },
  {
   "cell_type": "markdown",
   "id": "c4ad6b58",
   "metadata": {},
   "source": [
    "## Part 3: Preprocess all the data\n",
    "\n",
    "🔥 Please put all the code we wrote so far in function called ```preprocess_eeg_data```. The function should take \"bids_path\" as input and return \"epochs\", You can then loop across all data and concatenate all the epochs."
   ]
  },
  {
   "cell_type": "code",
   "execution_count": null,
   "id": "0daa7a32",
   "metadata": {},
   "outputs": [],
   "source": [
    "# Your code goes here. Please add comments."
   ]
  },
  {
   "cell_type": "markdown",
   "id": "73f646b5",
   "metadata": {},
   "source": [
    "## Part 4: Analyze the data\n",
    "\n",
    "🔥 Please define the following sensor groupings: frontal, central, temporal, parietal and occipital."
   ]
  },
  {
   "cell_type": "code",
   "execution_count": null,
   "id": "40348081",
   "metadata": {},
   "outputs": [],
   "source": [
    "# define sensor groupings:\n",
    "frontal = ['Fp1', 'AF7', 'AF3', 'F1', 'F3', 'F5', 'F7',\n",
    "           'Fp2', 'AF8', 'AF4', 'F2', 'F4', 'F6', 'F8']\n",
    "central = ['FC5', 'FC3', 'FC1', 'C1', 'C3', 'C5', 'CP5', 'CP3', 'CP1',\n",
    "           'FC6', 'FC4', 'FC2', 'C2', 'C4', 'C6', 'CP6', 'CP4', 'CP2']\n",
    "temporal = ['FT7', 'T7', 'TP7', 'FT8', 'T8', 'TP8',]\n",
    "parietal = ['P1', 'P3', 'P5', 'P7', 'P9', \n",
    "            'P2', 'P4', 'P6', 'P8', 'P10']\n",
    "occipital = ['PO7', 'PO3', 'O1',\n",
    "             'PO8', 'PO4', 'O2']"
   ]
  }
 ],
 "metadata": {
  "kernelspec": {
   "display_name": "Python (fods)",
   "language": "python",
   "name": "fods"
  },
  "language_info": {
   "codemirror_mode": {
    "name": "ipython",
    "version": 3
   },
   "file_extension": ".py",
   "mimetype": "text/x-python",
   "name": "python",
   "nbconvert_exporter": "python",
   "pygments_lexer": "ipython3",
   "version": "3.13.7"
  }
 },
 "nbformat": 4,
 "nbformat_minor": 5
}
