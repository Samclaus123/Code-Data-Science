{
 "cells": [
  {
   "cell_type": "markdown",
   "id": "8548668d",
   "metadata": {},
   "source": [
    "\n",
    "# EEG Data Analysis Assignment\n"
   ]
  },
  {
   "cell_type": "markdown",
   "id": "a9693f3b",
   "metadata": {},
   "source": [
    "In this assignment you will analyze the EEG data that you collected yourself. There are different approaches to preprocessing. Here we will model our pipeline after this recent paper (check Methods): https://pmc.ncbi.nlm.nih.gov/articles/PMC10659264/pdf/nihpp-2023.11.07.566051v2.pdf."
   ]
  },
  {
   "cell_type": "markdown",
   "id": "fa9748b9",
   "metadata": {},
   "source": [
    "## Part 1: Put all data in BIDS format"
   ]
  },
  {
   "cell_type": "code",
   "execution_count": 2,
   "id": "7e84ec3e",
   "metadata": {},
   "outputs": [
    {
     "name": "stdout",
     "output_type": "stream",
     "text": [
      "C:\\Users\\Gebruiker\n",
      "C:\\Users\\Gebruiker\\raw\n"
     ]
    }
   ],
   "source": [
    "import os, glob\n",
    "import numpy as np\n",
    "import pandas as pd\n",
    "import matplotlib.pyplot as plt\n",
    "import mne\n",
    "from mne_bids import BIDSPath, write_raw_bids, read_raw_bids\n",
    "\n",
    "# Define directories:\n",
    "project_dir = os.getcwd()\n",
    "print(project_dir)\n",
    "raw_dir = os.path.join(project_dir, 'raw')\n",
    "print(raw_dir)\n",
    "bids_dir = os.path.join(project_dir, 'bids')\n",
    "\n",
    "# Define event IDs:\n",
    "event_id = {\n",
    "    'A/standard': 1,\n",
    "    'A/oddball':  2,\n",
    "    'B/standard': 3,\n",
    "    'B/oddball':  4,\n",
    "}\n",
    "\n",
    "# subject ID\n",
    "subjects = [\"01\", '02', '03', '04', '05','06']"
   ]
  },
  {
   "cell_type": "markdown",
   "id": "0bcf7825",
   "metadata": {},
   "source": [
    "🔥 Please loop over filenames and put all raw data in BIDS format (look up what this means). You can use the functions ```BIDSPath``` and ```write_raw_bids```. We need to take care of a couple of things.\n",
    "\n",
    "First, after loading the raw EEG data, we need to change channels 'M1', 'M2', 'EXG7' and 'EXG8' to type 'misc', and channels 'UP', 'DOWN', 'LEFT' and 'RIGH' to type 'eog'. We also need to set the right montage ('biosemi64').\n",
    "\n",
    "Second, observe that ```write_raw_bids``` takes the \"events\" and \"event_id\" parameters. During EEG acquisition we always sent the same trigger (2) at every sound presentation. However, we would like to include information about state and stimulus, as per the dictionary called \"event_id\" (see previous cell). Please make sure to: (i) find all events in the eeg file, (ii) read information about state and stimulus ID in the corresponding \"*_events.tsv\" file, (iii) update the events according to \"event_id\", (iv) pass the \"events\" and \"event_id\" in ```write_raw_bids```.\n",
    "\n",
    "Third, look at all the json sidecar files, and check whether all information is correct. \n"
   ]
  },
  {
   "cell_type": "code",
   "execution_count": null,
   "id": "ba6dd95d",
   "metadata": {},
   "outputs": [
    {
     "name": "stdout",
     "output_type": "stream",
     "text": [
      "aantal .bdf bestanden: 3\n",
      "Extracting EDF parameters from C:\\Users\\Gebruiker\\Desktop\\Code Data Science\\Code-Data-Science\\raw\\1_2_eeg.bdf...\n",
      "BDF file detected\n",
      "Setting channel info structure...\n",
      "Creating raw.info structure...\n"
     ]
    },
    {
     "name": "stdout",
     "output_type": "stream",
     "text": [
      "Reading 0 ... 479231  =      0.000 ...   467.999 secs...\n",
      "  Waarschuwing: events file niet gevonden: C:\\Users\\Gebruiker\\Desktop\\Code Data Science\\Code-Data-Science\\raw\\1_2_*_events.tsv. Schrijf BIDS zonder aangepaste events.\n",
      "Writing 'C:\\Users\\Gebruiker\\Desktop\\Code Data Science\\Code-Data-Science\\bids\\participants.tsv'...\n",
      "Writing 'C:\\Users\\Gebruiker\\Desktop\\Code Data Science\\Code-Data-Science\\bids\\participants.json'...\n",
      "Writing 'C:/Users/Gebruiker/Desktop/Code Data Science/Code-Data-Science/bids/sub-01/eeg/sub-01_space-CapTrak_electrodes.tsv'...\n",
      "Writing 'C:/Users/Gebruiker/Desktop/Code Data Science/Code-Data-Science/bids/sub-01/eeg/sub-01_space-CapTrak_coordsystem.json'...\n",
      "Writing 'C:\\Users\\Gebruiker\\Desktop\\Code Data Science\\Code-Data-Science\\bids\\dataset_description.json'...\n",
      "Writing 'C:\\Users\\Gebruiker\\Desktop\\Code Data Science\\Code-Data-Science\\bids\\sub-01\\eeg\\sub-01_task-experiment_eeg.json'...\n",
      "Writing 'C:\\Users\\Gebruiker\\Desktop\\Code Data Science\\Code-Data-Science\\bids\\sub-01\\eeg\\sub-01_task-experiment_channels.tsv'...\n",
      "Copying data files to sub-01_task-experiment_eeg.edf\n"
     ]
    },
    {
     "name": "stderr",
     "output_type": "stream",
     "text": [
      "C:\\Users\\Gebruiker\\AppData\\Local\\Temp\\ipykernel_11552\\3956862619.py:27: RuntimeWarning: The unit for channel(s) EXG7, EXG8, M1, M2 has changed from V to NA.\n",
      "  raw.set_channel_types({ch: 'misc' for ch in misc if ch in raw.ch_names})\n",
      "C:\\Users\\Gebruiker\\AppData\\Local\\Temp\\ipykernel_11552\\3956862619.py:106: RuntimeWarning: No events found or provided. Please add annotations to the raw data, or provide the events and event_id parameters. For resting state data, BIDS recommends naming the task using labels beginning with \"rest\".\n",
      "  write_raw_bids(raw, bids_path=bids_path, overwrite=True, allow_preload=True, format='EDF')\n",
      "C:\\Users\\Gebruiker\\AppData\\Local\\Temp\\ipykernel_11552\\3956862619.py:106: RuntimeWarning: Converting data files to EDF format\n",
      "  write_raw_bids(raw, bids_path=bids_path, overwrite=True, allow_preload=True, format='EDF')\n"
     ]
    },
    {
     "name": "stdout",
     "output_type": "stream",
     "text": [
      "Writing 'C:\\Users\\Gebruiker\\Desktop\\Code Data Science\\Code-Data-Science\\bids\\sub-01\\sub-01_scans.tsv'...\n",
      "Wrote C:\\Users\\Gebruiker\\Desktop\\Code Data Science\\Code-Data-Science\\bids\\sub-01\\sub-01_scans.tsv entry with eeg\\sub-01_task-experiment_eeg.edf.\n",
      "Extracting EDF parameters from C:\\Users\\Gebruiker\\Desktop\\Code Data Science\\Code-Data-Science\\raw\\1_4_eeg.bdf...\n",
      "BDF file detected\n",
      "Setting channel info structure...\n",
      "Creating raw.info structure...\n",
      "Reading 0 ... 474111  =      0.000 ...   462.999 secs...\n",
      "  Waarschuwing: events file niet gevonden: C:\\Users\\Gebruiker\\Desktop\\Code Data Science\\Code-Data-Science\\raw\\1_4_*_events.tsv. Schrijf BIDS zonder aangepaste events.\n",
      "Writing 'C:\\Users\\Gebruiker\\Desktop\\Code Data Science\\Code-Data-Science\\bids\\participants.tsv'...\n",
      "Writing 'C:\\Users\\Gebruiker\\Desktop\\Code Data Science\\Code-Data-Science\\bids\\participants.json'...\n",
      "Writing 'C:/Users/Gebruiker/Desktop/Code Data Science/Code-Data-Science/bids/sub-02/eeg/sub-02_space-CapTrak_electrodes.tsv'...\n",
      "Writing 'C:/Users/Gebruiker/Desktop/Code Data Science/Code-Data-Science/bids/sub-02/eeg/sub-02_space-CapTrak_coordsystem.json'...\n",
      "Writing 'C:\\Users\\Gebruiker\\Desktop\\Code Data Science\\Code-Data-Science\\bids\\dataset_description.json'...\n",
      "Writing 'C:\\Users\\Gebruiker\\Desktop\\Code Data Science\\Code-Data-Science\\bids\\sub-02\\eeg\\sub-02_task-experiment_eeg.json'...\n",
      "Writing 'C:\\Users\\Gebruiker\\Desktop\\Code Data Science\\Code-Data-Science\\bids\\sub-02\\eeg\\sub-02_task-experiment_channels.tsv'...\n",
      "Copying data files to sub-02_task-experiment_eeg.edf\n"
     ]
    },
    {
     "name": "stderr",
     "output_type": "stream",
     "text": [
      "C:\\Users\\Gebruiker\\AppData\\Local\\Temp\\ipykernel_11552\\3956862619.py:27: RuntimeWarning: The unit for channel(s) EXG7, EXG8, M1, M2 has changed from V to NA.\n",
      "  raw.set_channel_types({ch: 'misc' for ch in misc if ch in raw.ch_names})\n",
      "C:\\Users\\Gebruiker\\AppData\\Local\\Temp\\ipykernel_11552\\3956862619.py:106: RuntimeWarning: No events found or provided. Please add annotations to the raw data, or provide the events and event_id parameters. For resting state data, BIDS recommends naming the task using labels beginning with \"rest\".\n",
      "  write_raw_bids(raw, bids_path=bids_path, overwrite=True, allow_preload=True, format='EDF')\n",
      "C:\\Users\\Gebruiker\\AppData\\Local\\Temp\\ipykernel_11552\\3956862619.py:106: RuntimeWarning: Converting data files to EDF format\n",
      "  write_raw_bids(raw, bids_path=bids_path, overwrite=True, allow_preload=True, format='EDF')\n"
     ]
    },
    {
     "name": "stdout",
     "output_type": "stream",
     "text": [
      "Writing 'C:\\Users\\Gebruiker\\Desktop\\Code Data Science\\Code-Data-Science\\bids\\sub-02\\sub-02_scans.tsv'...\n",
      "Wrote C:\\Users\\Gebruiker\\Desktop\\Code Data Science\\Code-Data-Science\\bids\\sub-02\\sub-02_scans.tsv entry with eeg\\sub-02_task-experiment_eeg.edf.\n",
      "Extracting EDF parameters from C:\\Users\\Gebruiker\\Desktop\\Code Data Science\\Code-Data-Science\\raw\\sub-01.bdf...\n",
      "BDF file detected\n",
      "Setting channel info structure...\n",
      "Creating raw.info structure...\n",
      "Reading 0 ... 479231  =      0.000 ...   467.999 secs...\n",
      "  Waarschuwing: events file niet gevonden: C:\\Users\\Gebruiker\\Desktop\\Code Data Science\\Code-Data-Science\\raw\\sub-01.bdf_*_events.tsv. Schrijf BIDS zonder aangepaste events.\n",
      "Writing 'C:\\Users\\Gebruiker\\Desktop\\Code Data Science\\Code-Data-Science\\bids\\participants.tsv'...\n",
      "Writing 'C:\\Users\\Gebruiker\\Desktop\\Code Data Science\\Code-Data-Science\\bids\\participants.json'...\n",
      "Writing 'C:/Users/Gebruiker/Desktop/Code Data Science/Code-Data-Science/bids/sub-03/eeg/sub-03_space-CapTrak_electrodes.tsv'...\n",
      "Writing 'C:/Users/Gebruiker/Desktop/Code Data Science/Code-Data-Science/bids/sub-03/eeg/sub-03_space-CapTrak_coordsystem.json'...\n",
      "Writing 'C:\\Users\\Gebruiker\\Desktop\\Code Data Science\\Code-Data-Science\\bids\\dataset_description.json'...\n",
      "Writing 'C:\\Users\\Gebruiker\\Desktop\\Code Data Science\\Code-Data-Science\\bids\\sub-03\\eeg\\sub-03_task-experiment_eeg.json'...\n",
      "Writing 'C:\\Users\\Gebruiker\\Desktop\\Code Data Science\\Code-Data-Science\\bids\\sub-03\\eeg\\sub-03_task-experiment_channels.tsv'...\n",
      "Copying data files to sub-03_task-experiment_eeg.edf\n"
     ]
    },
    {
     "name": "stderr",
     "output_type": "stream",
     "text": [
      "C:\\Users\\Gebruiker\\AppData\\Local\\Temp\\ipykernel_11552\\3956862619.py:27: RuntimeWarning: The unit for channel(s) EXG7, EXG8, M1, M2 has changed from V to NA.\n",
      "  raw.set_channel_types({ch: 'misc' for ch in misc if ch in raw.ch_names})\n",
      "C:\\Users\\Gebruiker\\AppData\\Local\\Temp\\ipykernel_11552\\3956862619.py:106: RuntimeWarning: No events found or provided. Please add annotations to the raw data, or provide the events and event_id parameters. For resting state data, BIDS recommends naming the task using labels beginning with \"rest\".\n",
      "  write_raw_bids(raw, bids_path=bids_path, overwrite=True, allow_preload=True, format='EDF')\n",
      "C:\\Users\\Gebruiker\\AppData\\Local\\Temp\\ipykernel_11552\\3956862619.py:106: RuntimeWarning: Converting data files to EDF format\n",
      "  write_raw_bids(raw, bids_path=bids_path, overwrite=True, allow_preload=True, format='EDF')\n"
     ]
    },
    {
     "name": "stdout",
     "output_type": "stream",
     "text": [
      "Writing 'C:\\Users\\Gebruiker\\Desktop\\Code Data Science\\Code-Data-Science\\bids\\sub-03\\sub-03_scans.tsv'...\n",
      "Wrote C:\\Users\\Gebruiker\\Desktop\\Code Data Science\\Code-Data-Science\\bids\\sub-03\\sub-03_scans.tsv entry with eeg\\sub-03_task-experiment_eeg.edf.\n",
      "\n",
      "Klaar met alle bestanden inbids zetten.\n"
     ]
    }
   ],
   "source": [
    "def rawtobids(raw_dir, bids_dir, subjects, event_id):\n",
    "    \"\"\"\n",
    "    Converteer alle .bdf bestanden in raw_dir naar BIDS in bids_dir.\n",
    "    Voor elk bestand:\n",
    "      - zet opgegeven kanaaltypes (misc, eog)\n",
    "      - zet montage biosemi64\n",
    "      - vind STIM-events in raw\n",
    "      - lees corresponderende *_events.tsv (zelfde basename + '_events.tsv')\n",
    "      - filter phase == \"2\" en map (state, frequency) naar de juiste event_id\n",
    "      - zet de derde kolom van de events-array naar die nieuwe codes (alleen voor de fase2-triggers)\n",
    "      - schrijf naar BIDS met write_raw_bids(..., events_data=events_array, event_id=event_id)\n",
    "    \"\"\"\n",
    "    bdf_files = sorted(glob.glob(os.path.join(raw_dir, \"*.bdf\")))\n",
    "    '''\n",
    "    print(\"Gevonden .bdf bestanden:\", bdf_files)\n",
    "    '''\n",
    "    print(\"aantal .bdf bestanden:\", len(bdf_files))\n",
    "\n",
    "    # Loop over alle bdf bestanden\n",
    "    for i, bdf_file in enumerate(bdf_files):\n",
    "        '''\n",
    "        print(\"\\nVerwerken:\", bdf_file)\n",
    "        '''\n",
    "        # Lees raw\n",
    "        raw = mne.io.read_raw_bdf(bdf_file, preload=True)\n",
    "\n",
    "        # Types omzetten op basis van kanaal\n",
    "        misc = ['M1', 'M2', 'EXG7', 'EXG8']\n",
    "        raw.set_channel_types({ch: 'misc' for ch in misc if ch in raw.ch_names})\n",
    "        eog = ['UP', 'DOWN', 'LEFT', 'RIGHT']\n",
    "        raw.set_channel_types({ch: 'eog' for ch in eog if ch in raw.ch_names})\n",
    "\n",
    "        # montage biosemi64\n",
    "        raw.set_montage('biosemi64', on_missing='ignore')\n",
    "\n",
    "        # Zoek events.tsv bestand corresponderend met bdf_file\n",
    "        prefix = bdf_file.split('_eeg.bdf')[0] + \"_\"    # files heten 1_2_eeg.bdf, prefix = \"1_2_\"\n",
    "        events_tsv_path = prefix + \"*_events.tsv\"       # path naar 1_2_*kan alles zijn*_events.tsv  \n",
    "        if not os.path.exists(events_tsv_path): # als file niet bestaat\n",
    "            print(f\"  Waarschuwing: events file niet gevonden: {events_tsv_path}. Schrijf BIDS zonder aangepaste events.\")\n",
    "            events_array_to_write = None\n",
    "        else: # lees de file in en filter: alleen rows waar phase == \"2\"\n",
    "            df = pd.read_csv(events_tsv_path, sep=\"\\t\", dtype=str)\n",
    "            filtered = df[df[\"phase\"].str.strip() == \"2\"].copy()\n",
    "            '''\n",
    "            print(f\"  Aantal events in {os.path.basename(events_tsv_path)} met phase==2: {len(filtered)}\")\n",
    "            '''\n",
    "\n",
    "            # Vind STIM-events in raw bdf file\n",
    "            new_event_codes = []\n",
    "            if not filtered.empty:\n",
    "                # zet veilig om naar floats/integers waar nodig\n",
    "                # (we volgen hetzelfde logic als in jouw oorspronkelijke code)\n",
    "                for st_str, fq_str in zip(filtered[\"state\"], filtered[\"frequency\"]):\n",
    "                    try:\n",
    "                        st = float(str(st_str).strip())\n",
    "                    except:\n",
    "                        st = np.nan\n",
    "                    try:\n",
    "                        fq = float(str(fq_str).strip())\n",
    "                    except:\n",
    "                        fq = np.nan\n",
    "\n",
    "                    if st == 1:  # reeks A\n",
    "                        if fq == 2000:\n",
    "                            new_event_codes.append(event_id[\"A/standard\"])\n",
    "                        else:\n",
    "                            new_event_codes.append(event_id[\"A/oddball\"])\n",
    "                    elif st == -1:  # reeks B\n",
    "                        if fq == 1000:\n",
    "                            new_event_codes.append(event_id[\"B/standard\"])\n",
    "                        else:\n",
    "                            new_event_codes.append(event_id[\"B/oddball\"])\n",
    "                    else:\n",
    "                        new_event_codes.append(0)  # ongedefinieerd -> code 0 (volgt jouw eerdere aanpak)\n",
    "\n",
    "            # -- combineer de gevonden stim_events met de nieuw gemapte codes --\n",
    "            n_triggers = len(stim_events)\n",
    "            n_filtered = len(new_event_codes)\n",
    "\n",
    "            if n_triggers == 0:\n",
    "                print(\"  Geen stim-events gevonden in raw; geen events meegeven aan write_raw_bids.\")\n",
    "                events_array_to_write = None\n",
    "            else:\n",
    "                if n_triggers != n_filtered:\n",
    "                    print(f\"  Let op: aantal gevonden stim-events ({n_triggers}) ≠ aantal gefilterde phase2-rows ({n_filtered}).\")\n",
    "                    print(\"  Ik zal de arrays afstemmen op de minimale lengte (geen fouten raise).\")\n",
    "                n_use = min(n_triggers, n_filtered)\n",
    "                if n_use == 0:\n",
    "                    events_array_to_write = None\n",
    "                else:\n",
    "                    events_array_to_write = stim_events[:n_use].copy()\n",
    "                    events_array_to_write[:, 2] = np.array(new_event_codes[:n_use], dtype=int)\n",
    "                    '''\n",
    "                    print(f\"  Events array klaargezet met {n_use} events (kolom 3 aangepast).\")\n",
    "                    '''\n",
    "\n",
    "        # BIDSPath maken (subject index i -> subjects[i])\n",
    "        bids_path = BIDSPath(subject=subjects[i],\n",
    "                             root=bids_dir,\n",
    "                             datatype='eeg',\n",
    "                             extension='.bdf',\n",
    "                             suffix='eeg',\n",
    "                             task='experiment')\n",
    "\n",
    "        # Schrijf naar BIDS\n",
    "        if events_array_to_write is None:   # als events ontbreken alleen bdf schrijven\n",
    "            write_raw_bids(raw, bids_path=bids_path, overwrite=True, allow_preload=True, format='EDF')\n",
    "            '''\n",
    "            print(f\"  {os.path.basename(bdf_file)} geschreven naar BIDS (zonder custom events).\")\n",
    "            '''\n",
    "        else:\n",
    "            write_raw_bids(raw,\n",
    "                           bids_path=bids_path,\n",
    "                           events_data=events_array_to_write,\n",
    "                           event_id=event_id,\n",
    "                           overwrite=True,\n",
    "                           allow_preload=True,\n",
    "                           format='EDF')\n",
    "            print(f\"  {os.path.basename(bdf_file)} geschreven naar BIDS.\")\n",
    "\n",
    "    print(\"\\nKlaar met alle bestanden inbids zetten.\")\n",
    "\n",
    "# run functie\n",
    "rawtobids(raw_dir=raw_dir, bids_dir=bids_dir, subjects=subjects, event_id=event_id)\n"
   ]
  },
  {
   "cell_type": "code",
   "execution_count": null,
   "id": "2c5746fd",
   "metadata": {},
   "outputs": [
    {
     "name": "stdout",
     "output_type": "stream",
     "text": [
      "Gevonden .bdf bestanden: 3\n",
      "Extracting EDF parameters from C:\\Users\\Gebruiker\\Desktop\\Code Data Science\\Code-Data-Science\\raw\\1_2_eeg.bdf...\n",
      "BDF file detected\n",
      "Setting channel info structure...\n"
     ]
    },
    {
     "name": "stdout",
     "output_type": "stream",
     "text": [
      "Creating raw.info structure...\n",
      "Reading 0 ... 479231  =      0.000 ...   467.999 secs...\n",
      "  Waarschuwing: events file niet gevonden: C:\\Users\\Gebruiker\\Desktop\\Code Data Science\\Code-Data-Science\\raw\\1_2_*_events.tsv. Schrijf BIDS zonder aangepaste events.\n",
      "Writing 'C:\\Users\\Gebruiker\\Desktop\\Code Data Science\\Code-Data-Science\\bids\\participants.tsv'...\n",
      "Writing 'C:\\Users\\Gebruiker\\Desktop\\Code Data Science\\Code-Data-Science\\bids\\participants.json'...\n",
      "Writing 'C:/Users/Gebruiker/Desktop/Code Data Science/Code-Data-Science/bids/sub-01/eeg/sub-01_space-CapTrak_electrodes.tsv'...\n",
      "Writing 'C:/Users/Gebruiker/Desktop/Code Data Science/Code-Data-Science/bids/sub-01/eeg/sub-01_space-CapTrak_coordsystem.json'...\n",
      "Writing 'C:\\Users\\Gebruiker\\Desktop\\Code Data Science\\Code-Data-Science\\bids\\dataset_description.json'...\n",
      "Writing 'C:\\Users\\Gebruiker\\Desktop\\Code Data Science\\Code-Data-Science\\bids\\sub-01\\eeg\\sub-01_task-experiment_eeg.json'...\n",
      "Writing 'C:\\Users\\Gebruiker\\Desktop\\Code Data Science\\Code-Data-Science\\bids\\sub-01\\eeg\\sub-01_task-experiment_channels.tsv'...\n",
      "Copying data files to sub-01_task-experiment_eeg.edf\n"
     ]
    },
    {
     "name": "stderr",
     "output_type": "stream",
     "text": [
      "C:\\Users\\Gebruiker\\AppData\\Local\\Temp\\ipykernel_11552\\137508163.py:24: RuntimeWarning: The unit for channel(s) EXG7, EXG8, M1, M2 has changed from V to NA.\n",
      "  raw.set_channel_types({ch: 'misc' for ch in misc if ch in raw.ch_names})\n",
      "C:\\Users\\Gebruiker\\AppData\\Local\\Temp\\ipykernel_11552\\137508163.py:92: RuntimeWarning: No events found or provided. Please add annotations to the raw data, or provide the events and event_id parameters. For resting state data, BIDS recommends naming the task using labels beginning with \"rest\".\n",
      "  write_raw_bids(raw, bids_path=bids_path, overwrite=True, allow_preload=True, format='EDF')\n",
      "C:\\Users\\Gebruiker\\AppData\\Local\\Temp\\ipykernel_11552\\137508163.py:92: RuntimeWarning: Converting data files to EDF format\n",
      "  write_raw_bids(raw, bids_path=bids_path, overwrite=True, allow_preload=True, format='EDF')\n"
     ]
    },
    {
     "name": "stdout",
     "output_type": "stream",
     "text": [
      "Writing 'C:\\Users\\Gebruiker\\Desktop\\Code Data Science\\Code-Data-Science\\bids\\sub-01\\sub-01_scans.tsv'...\n",
      "Wrote C:\\Users\\Gebruiker\\Desktop\\Code Data Science\\Code-Data-Science\\bids\\sub-01\\sub-01_scans.tsv entry with eeg\\sub-01_task-experiment_eeg.edf.\n",
      "Extracting EDF parameters from C:\\Users\\Gebruiker\\Desktop\\Code Data Science\\Code-Data-Science\\raw\\1_4_eeg.bdf...\n",
      "BDF file detected\n",
      "Setting channel info structure...\n",
      "Creating raw.info structure...\n",
      "Reading 0 ... 474111  =      0.000 ...   462.999 secs...\n",
      "  Waarschuwing: events file niet gevonden: C:\\Users\\Gebruiker\\Desktop\\Code Data Science\\Code-Data-Science\\raw\\1_4_*_events.tsv. Schrijf BIDS zonder aangepaste events.\n",
      "Writing 'C:\\Users\\Gebruiker\\Desktop\\Code Data Science\\Code-Data-Science\\bids\\participants.tsv'...\n",
      "Writing 'C:\\Users\\Gebruiker\\Desktop\\Code Data Science\\Code-Data-Science\\bids\\participants.json'...\n",
      "Writing 'C:/Users/Gebruiker/Desktop/Code Data Science/Code-Data-Science/bids/sub-02/eeg/sub-02_space-CapTrak_electrodes.tsv'...\n",
      "Writing 'C:/Users/Gebruiker/Desktop/Code Data Science/Code-Data-Science/bids/sub-02/eeg/sub-02_space-CapTrak_coordsystem.json'...\n",
      "Writing 'C:\\Users\\Gebruiker\\Desktop\\Code Data Science\\Code-Data-Science\\bids\\dataset_description.json'...\n",
      "Writing 'C:\\Users\\Gebruiker\\Desktop\\Code Data Science\\Code-Data-Science\\bids\\sub-02\\eeg\\sub-02_task-experiment_eeg.json'...\n",
      "Writing 'C:\\Users\\Gebruiker\\Desktop\\Code Data Science\\Code-Data-Science\\bids\\sub-02\\eeg\\sub-02_task-experiment_channels.tsv'...\n",
      "Copying data files to sub-02_task-experiment_eeg.edf\n"
     ]
    },
    {
     "name": "stderr",
     "output_type": "stream",
     "text": [
      "C:\\Users\\Gebruiker\\AppData\\Local\\Temp\\ipykernel_11552\\137508163.py:24: RuntimeWarning: The unit for channel(s) EXG7, EXG8, M1, M2 has changed from V to NA.\n",
      "  raw.set_channel_types({ch: 'misc' for ch in misc if ch in raw.ch_names})\n",
      "C:\\Users\\Gebruiker\\AppData\\Local\\Temp\\ipykernel_11552\\137508163.py:92: RuntimeWarning: No events found or provided. Please add annotations to the raw data, or provide the events and event_id parameters. For resting state data, BIDS recommends naming the task using labels beginning with \"rest\".\n",
      "  write_raw_bids(raw, bids_path=bids_path, overwrite=True, allow_preload=True, format='EDF')\n",
      "C:\\Users\\Gebruiker\\AppData\\Local\\Temp\\ipykernel_11552\\137508163.py:92: RuntimeWarning: Converting data files to EDF format\n",
      "  write_raw_bids(raw, bids_path=bids_path, overwrite=True, allow_preload=True, format='EDF')\n"
     ]
    }
   ],
   "source": [
    "def rawtobids(raw_dir, bids_dir, subjects, event_id):\n",
    "    \"\"\"\n",
    "    Converteer alle .bdf bestanden in raw_dir naar BIDS in bids_dir.\n",
    "    Voor elk bestand:\n",
    "      - zet opgegeven kanaaltypes (misc, eog)\n",
    "      - zet montage biosemi64\n",
    "      - vind STIM-events in raw\n",
    "      - lees corresponderende *_events.tsv (zelfde basename + '_events.tsv')\n",
    "      - filter phase == \"2\" en map (state, frequency) naar de juiste event_id\n",
    "      - zet de derde kolom van de events-array naar die nieuwe codes (alleen voor de fase2-triggers)\n",
    "      - schrijf naar BIDS met write_raw_bids(..., events_data=events_array, event_id=event_id)\n",
    "    \"\"\"\n",
    "    bdf_files = sorted(glob.glob(os.path.join(raw_dir, \"*.bdf\")))\n",
    "    #print(\"Gevonden .bdf bestanden:\", bdf_files)\n",
    "    print(\"Gevonden .bdf bestanden:\", len(bdf_files))\n",
    "\n",
    "    for i, bdf_file in enumerate(bdf_files):\n",
    "        #print(\"\\nVerwerken:\", bdf_file)\n",
    "        # lees raw bdf files in\n",
    "        raw = mne.io.read_raw_bdf(bdf_file, preload=True)\n",
    "\n",
    "        # Types omzetten op basis van kanaal\n",
    "        misc = ['M1', 'M2', 'EXG7', 'EXG8']\n",
    "        raw.set_channel_types({ch: 'misc' for ch in misc if ch in raw.ch_names})\n",
    "        eog = ['UP', 'DOWN', 'LEFT', 'RIGHT']\n",
    "        raw.set_channel_types({ch: 'eog' for ch in eog if ch in raw.ch_names})\n",
    "\n",
    "        # montage biosemi64\n",
    "        raw.set_montage('biosemi64', on_missing='ignore')\n",
    "\n",
    "        # Zoek events.tsv bestand corresponderend met bdf_file\n",
    "        prefix = bdf_file.split('_eeg.bdf')[0] + \"_\"    # files heten 1_2_eeg.bdf, prefix = \"1_2_\"\n",
    "        events_tsv_path = prefix + \"*_events.tsv\"       # path naar 1_2_*kan alles zijn*_events.tsv  \n",
    "        if not os.path.exists(events_tsv_path): # als file niet bestaat\n",
    "            print(f\"  Waarschuwing: events file niet gevonden: {events_tsv_path}. Schrijf BIDS zonder aangepaste events.\")\n",
    "            events_array_to_write = None\n",
    "        else: # lees de file in en filter: alleen rows waar phase == \"2\"\n",
    "            df = pd.read_csv(events_tsv_path, sep=\"\\t\", dtype=str)\n",
    "            filtered = df[df[\"phase\"].str.strip() == \"2\"].copy()\n",
    "            print(f\"  Aantal events in {os.path.basename(events_tsv_path)} met phase==2: {len(filtered)}\")\n",
    "\n",
    "            # Maak een nieuwe lijst voor de aangepaste event codes zoals in de dictionary\n",
    "            new_event_codes = []\n",
    "\n",
    "             # Loop door de rijen van de DataFrame en wijs de juiste event code toe\n",
    "            if st == 1:  # reeks A\n",
    "                if fq == 2000:\n",
    "                    new_event_codes.append(event_id[\"A/standard\"])\n",
    "                else:\n",
    "                    new_event_codes.append(event_id[\"A/oddball\"])\n",
    "            elif st == -1:  # reeks B\n",
    "                if fq == 1000:\n",
    "                    new_event_codes.append(event_id[\"B/standard\"])\n",
    "                else:\n",
    "                    new_event_codes.append(event_id[\"B/oddball\"])\n",
    "            else:\n",
    "                new_event_codes.append(0)  # ongedefinieerd -> code 0 (volgt jouw eerdere aanpak)\n",
    "\n",
    "            n_triggers = len(stim_events)\n",
    "            n_filtered = len(new_event_codes)\n",
    "\n",
    "            # code om errors te voorkomen: (dit was een issue een paar keer)\n",
    "            # 1. Het controleert of er stim-events zijn gevonden in de raw data.\n",
    "            # 2. Als er geen stim-events zijn, wordt events_array_to_write op None gezet.\n",
    "            # 3. Als er wel stim-events zijn, maar het aantal gevonden stim-events verschilt van het aantal gefilterde phase2-rows,\n",
    "            #    wordt er een waarschuwing gegeven en worden de arrays afgestemd op de minimale lengte.\n",
    "            if n_triggers == 0:\n",
    "                print(\"  Geen stim-events gevonden in raw; geen events meegeven aan write_raw_bids.\")\n",
    "                events_array_to_write = None\n",
    "            else:\n",
    "                if n_triggers != n_filtered:\n",
    "                    print(f\"  Let op: aantal gevonden stim-events ({n_triggers}) ≠ aantal gefilterde phase2-rows ({n_filtered}).\")\n",
    "                    print(\"  Ik zal de arrays afstemmen op de minimale lengte (geen fouten raise).\")\n",
    "                n_use = min(n_triggers, n_filtered)\n",
    "                if n_use == 0:\n",
    "                    events_array_to_write = None\n",
    "                else:\n",
    "                    events_array_to_write = stim_events[:n_use].copy()\n",
    "                    events_array_to_write[:, 2] = np.array(new_event_codes[:n_use], dtype=int)\n",
    "                    print(f\"  Events array klaargezet met {n_use} events (kolom 3 aangepast).\")\n",
    "\n",
    "        # BIDSPath maken (subject index i -> subjects[i])\n",
    "        bids_path = BIDSPath(subject=subjects[i],\n",
    "                             root=bids_dir,\n",
    "                             datatype='eeg',\n",
    "                             extension='.bdf',\n",
    "                             suffix='eeg',\n",
    "                             task='experiment')\n",
    "\n",
    "        # Schrijf de events naar BIDS\n",
    "        if events_array_to_write is None:   # als events ontbreken alleen bdf schrijven\n",
    "            write_raw_bids(raw, bids_path=bids_path, overwrite=True, allow_preload=True, format='EDF')\n",
    "            # print(f\"  {os.path.basename(bdf_file)} geschreven naar BIDS (zonder events).\")\n",
    "        else:\n",
    "            write_raw_bids(raw,\n",
    "                           bids_path=bids_path,\n",
    "                           events_data=events_array_to_write,\n",
    "                           event_id=event_id,\n",
    "                           overwrite=True,\n",
    "                           allow_preload=True,\n",
    "                           format='EDF')\n",
    "            # print(f\"  {os.path.basename(bdf_file)} geschreven naar BIDS (met events).\")\n",
    "    print(\"\\da files are in da BIDS, also dha blutoof dwife is ready to pairh...sorry ik heb mn koptelefoon net aangezet en het is laat\")\n",
    "    print(\"\\nKlaar met alle bestanden in BIDS zetten.\")\n",
    "\n",
    "# run functie\n",
    "rawtobids(raw_dir=raw_dir, bids_dir=bids_dir, subjects=subjects, event_id=event_id)"
   ]
  },
  {
   "cell_type": "markdown",
   "id": "15eca94d",
   "metadata": {},
   "source": [
    "👉 **Question:** Why would we bother with storing our data in BIDS format?\n",
    "\n",
    "**Answer:**"
   ]
  },
  {
   "cell_type": "markdown",
   "id": "a19abd71",
   "metadata": {},
   "source": [
    "\n",
    "## Part 2: Preprocess example data set\n",
    "\n",
    "🔥 Please take an example block and load the eeg and events data (from the BIDS directory)."
   ]
  },
  {
   "cell_type": "code",
   "execution_count": null,
   "id": "a32fa599",
   "metadata": {},
   "outputs": [
    {
     "name": "stdout",
     "output_type": "stream",
     "text": [
      "Gevonden bestanden: []\n"
     ]
    },
    {
     "ename": "IndexError",
     "evalue": "list index out of range",
     "output_type": "error",
     "traceback": [
      "\u001b[1;31m---------------------------------------------------------------------------\u001b[0m",
      "\u001b[1;31mIndexError\u001b[0m                                Traceback (most recent call last)",
      "Cell \u001b[1;32mIn[6], line 2\u001b[0m\n\u001b[0;32m      1\u001b[0m \u001b[38;5;66;03m# Your code goes here. Please add comments.\u001b[39;00m\n\u001b[1;32m----> 2\u001b[0m \u001b[43mrawtobids\u001b[49m\u001b[43m(\u001b[49m\u001b[43mraw_dir\u001b[49m\u001b[43m)\u001b[49m\n",
      "Cell \u001b[1;32mIn[5], line 7\u001b[0m, in \u001b[0;36mrawtobids\u001b[1;34m(raw_dir)\u001b[0m\n\u001b[0;32m      4\u001b[0m \u001b[38;5;28mprint\u001b[39m(\u001b[38;5;124m\"\u001b[39m\u001b[38;5;124mGevonden bestanden:\u001b[39m\u001b[38;5;124m\"\u001b[39m, bdf_files)\n\u001b[0;32m      6\u001b[0m \u001b[38;5;66;03m# lees BDF file\u001b[39;00m\n\u001b[1;32m----> 7\u001b[0m raw \u001b[38;5;241m=\u001b[39m mne\u001b[38;5;241m.\u001b[39mio\u001b[38;5;241m.\u001b[39mread_raw_bdf(\u001b[43mbdf_files\u001b[49m\u001b[43m[\u001b[49m\u001b[38;5;241;43m0\u001b[39;49m\u001b[43m]\u001b[49m, preload\u001b[38;5;241m=\u001b[39m\u001b[38;5;28;01mTrue\u001b[39;00m) \u001b[38;5;66;03m# load the first file of the bdf_files\u001b[39;00m\n\u001b[0;32m      9\u001b[0m misc \u001b[38;5;241m=\u001b[39m [\u001b[38;5;124m'\u001b[39m\u001b[38;5;124mM1\u001b[39m\u001b[38;5;124m'\u001b[39m, \u001b[38;5;124m'\u001b[39m\u001b[38;5;124mM2\u001b[39m\u001b[38;5;124m'\u001b[39m, \u001b[38;5;124m'\u001b[39m\u001b[38;5;124mEXG7\u001b[39m\u001b[38;5;124m'\u001b[39m, \u001b[38;5;124m'\u001b[39m\u001b[38;5;124mEXG8\u001b[39m\u001b[38;5;124m'\u001b[39m] \n\u001b[0;32m     10\u001b[0m raw\u001b[38;5;241m.\u001b[39mset_channel_types({ch: \u001b[38;5;124m'\u001b[39m\u001b[38;5;124mmisc\u001b[39m\u001b[38;5;124m'\u001b[39m \u001b[38;5;28;01mfor\u001b[39;00m ch \u001b[38;5;129;01min\u001b[39;00m misc \u001b[38;5;28;01mif\u001b[39;00m ch \u001b[38;5;129;01min\u001b[39;00m raw\u001b[38;5;241m.\u001b[39mch_names}) \u001b[38;5;66;03m#changes the channels type to misc\u001b[39;00m\n",
      "\u001b[1;31mIndexError\u001b[0m: list index out of range"
     ]
    }
   ],
   "source": [
    "# Your code goes here. Please add comments.\n",
    "rawtobids(raw_dir)\n",
    "# Sam"
   ]
  },
  {
   "cell_type": "markdown",
   "id": "12191d7f",
   "metadata": {},
   "source": [
    "🔥 Please plot the raw data. Show examples of (i) clean data, (ii) blinks (look at eog channels), and (iii) muscle artefacts. Print the shape of the data, and indicate what the dimensions correspond to. Print all channel names. Print all channel types."
   ]
  },
  {
   "cell_type": "code",
   "execution_count": null,
   "id": "ab66b120",
   "metadata": {},
   "outputs": [],
   "source": [
    "# Your code goes here. Please add comments.\n",
    "# Irem"
   ]
  },
  {
   "cell_type": "markdown",
   "id": "514beef8",
   "metadata": {},
   "source": [
    "👉 **Question:** What kind of information can you extract just from visually inspecting raw EEG traces?\n",
    "\n",
    "**Answer:**"
   ]
  },
  {
   "cell_type": "markdown",
   "id": "0ba77dac",
   "metadata": {},
   "source": [
    "🔥 Please set the channels 'M1', 'M2', 'EXG7' and 'EXG8' to type 'misc', and channels 'UP', 'DOWN', 'LEFT' and 'RIGH' to type 'eog'. Also set the right montage, and plot this. \n",
    "\n",
    "PS: Yes, it is annoying that we did this before. This information did end up correctly in the json sidecar files (check this), but not in the *eeg.bdf files."
   ]
  },
  {
   "cell_type": "code",
   "execution_count": null,
   "id": "202cde29",
   "metadata": {},
   "outputs": [],
   "source": [
    "# Your code goes here. Please add comments.\n",
    "# Irem"
   ]
  },
  {
   "cell_type": "markdown",
   "id": "865bcff2",
   "metadata": {},
   "source": [
    "🔥 Please re-reference the EEG data to the average of the two mastoids."
   ]
  },
  {
   "cell_type": "code",
   "execution_count": null,
   "id": "ee5eb871",
   "metadata": {},
   "outputs": [],
   "source": [
    "# Your code goes here. Please add comments.\n",
    "# Roderik"
   ]
  },
  {
   "cell_type": "markdown",
   "id": "bb1f6b9d",
   "metadata": {},
   "source": [
    "👉 **Question:** Why would you want to re-reference the EEG data? What are common approaches? What are advantages and disadvantages of each?\n",
    "\n",
    "**Answer:**"
   ]
  },
  {
   "cell_type": "markdown",
   "id": "f3c6d32c",
   "metadata": {},
   "source": [
    "🔥 Please combine eog channels into bipolar horizontal (\"HEOG\") and vertical (\"VEOG\") EOG derivations. Check if the resulting channel type is correct."
   ]
  },
  {
   "cell_type": "code",
   "execution_count": null,
   "id": "7739f95e",
   "metadata": {},
   "outputs": [],
   "source": [
    "# Your code goes here. Please add comments.\n",
    "# Roderik"
   ]
  },
  {
   "cell_type": "markdown",
   "id": "9377ed8a",
   "metadata": {},
   "source": [
    "👉 **Question:** Why do we take the difference between for example the UP and DOWN electrode?\n",
    "\n",
    "**Answer:** "
   ]
  },
  {
   "cell_type": "markdown",
   "id": "a1066abe",
   "metadata": {},
   "source": [
    "🔥 Please apply a bandpass filter. Look up what a bandpass filter is, and use common cutoffs for EEG."
   ]
  },
  {
   "cell_type": "code",
   "execution_count": null,
   "id": "5a842e92",
   "metadata": {},
   "outputs": [],
   "source": [
    "# Your code goes here. Please add comments.\n",
    "# Mernan"
   ]
  },
  {
   "cell_type": "markdown",
   "id": "6ad8a0c0",
   "metadata": {},
   "source": [
    "👉 **Question:** Why should we filter EEG data? What type of temporal filters are typically applied, and what are common cut-offs? \n",
    "\n",
    "**Answer:**"
   ]
  },
  {
   "cell_type": "markdown",
   "id": "f58669cd",
   "metadata": {},
   "source": [
    "🔥 Please downsample the EEG data to 250Hz."
   ]
  },
  {
   "cell_type": "code",
   "execution_count": null,
   "id": "7ff6c1a3",
   "metadata": {},
   "outputs": [],
   "source": [
    "# Your code goes here. Please add comments.\n",
    "# Sam"
   ]
  },
  {
   "cell_type": "markdown",
   "id": "0d9eefd1",
   "metadata": {},
   "source": [
    "👉 **Question:** What are the advantages of downsampling, and why does 250Hz makes sense?\n",
    "\n",
    "**Answer:**"
   ]
  },
  {
   "cell_type": "markdown",
   "id": "7dc72a75",
   "metadata": {},
   "source": [
    "🔥 Please perform independent component analysis and plot the components."
   ]
  },
  {
   "cell_type": "code",
   "execution_count": null,
   "id": "ec6296a0",
   "metadata": {},
   "outputs": [],
   "source": [
    "# Your code goes here. Please add comments.\n",
    "# Sam"
   ]
  },
  {
   "cell_type": "markdown",
   "id": "910e6352",
   "metadata": {},
   "source": [
    "👉 **Question:** What does this plot show?  \n",
    "\n",
    "**Answer:** \n"
   ]
  },
  {
   "cell_type": "markdown",
   "id": "ed91fabc",
   "metadata": {},
   "source": [
    "🔥 Please remove components associated with blinks and eye movements. Include diagnostic figures (check with plotting methods exists for ica objects)."
   ]
  },
  {
   "cell_type": "code",
   "execution_count": null,
   "id": "1a0490ed",
   "metadata": {},
   "outputs": [],
   "source": [
    "# Your code goes here. Please add comments.\n",
    "# Mernan"
   ]
  },
  {
   "cell_type": "markdown",
   "id": "bf73d4e6",
   "metadata": {},
   "source": [
    "👉 **Question:** What do these plot show?  \n",
    "\n",
    "**Answer:** "
   ]
  },
  {
   "cell_type": "markdown",
   "id": "cbc39c26",
   "metadata": {},
   "source": [
    "🔥 Please plot the same bit of data, before and after ica-based artefact removal."
   ]
  },
  {
   "cell_type": "code",
   "execution_count": null,
   "id": "0d1c95f5",
   "metadata": {},
   "outputs": [],
   "source": [
    "# Your code goes here. Please add comments.\n",
    "# Irem"
   ]
  },
  {
   "cell_type": "markdown",
   "id": "d178ae77",
   "metadata": {},
   "source": [
    "\n",
    "👉 **Question:** What kinds of artifacts can ICA help to remove in EEG data? Why do we want to do this? \n",
    "\n",
    "**Answer:**"
   ]
  },
  {
   "cell_type": "markdown",
   "id": "15e68e2e",
   "metadata": {},
   "source": [
    "🔥 Please epoch the cleaned data (make sure to use \"event_id\"), by cutting out segments from 500ms before each sound to 1000ms after. Plot the resulting epochs object."
   ]
  },
  {
   "cell_type": "code",
   "execution_count": null,
   "id": "ab611da5",
   "metadata": {},
   "outputs": [],
   "source": [
    "# Your code goes here. Please add comments.\n",
    "# Mernan"
   ]
  },
  {
   "cell_type": "markdown",
   "id": "027ccfdf",
   "metadata": {},
   "source": [
    "\n",
    "👉 **Question:** Why do we extract epochs relative to events?  \n",
    "\n",
    "**Answer:**\n"
   ]
  },
  {
   "cell_type": "markdown",
   "id": "c4ad6b58",
   "metadata": {},
   "source": [
    "## Part 3: Preprocess all the data\n",
    "\n",
    "🔥 Please put all the code we wrote so far in function called ```preprocess_eeg_data```. The function should take \"bids_path\" as input and return \"epochs\", You can then loop across all data and concatenate all the epochs."
   ]
  },
  {
   "cell_type": "code",
   "execution_count": 14,
   "id": "0daa7a32",
   "metadata": {},
   "outputs": [],
   "source": [
    "# Your code goes here. Please add comments."
   ]
  },
  {
   "cell_type": "markdown",
   "id": "73f646b5",
   "metadata": {},
   "source": [
    "## Part 4: Analyze the data\n",
    "\n",
    "🔥 Please define the following sensor groupings: frontal, central, temporal, parietal and occipital."
   ]
  },
  {
   "cell_type": "code",
   "execution_count": 70,
   "id": "40348081",
   "metadata": {},
   "outputs": [],
   "source": [
    "# define sensor groupings:\n",
    "frontal = ['Fp1', 'AF7', 'AF3', 'F1', 'F3', 'F5', 'F7',\n",
    "           'Fp2', 'AF8', 'AF4', 'F2', 'F4', 'F6', 'F8']\n",
    "central = ['FC5', 'FC3', 'FC1', 'C1', 'C3', 'C5', 'CP5', 'CP3', 'CP1',\n",
    "           'FC6', 'FC4', 'FC2', 'C2', 'C4', 'C6', 'CP6', 'CP4', 'CP2']\n",
    "temporal = ['FT7', 'T7', 'TP7', 'FT8', 'T8', 'TP8',]\n",
    "parietal = ['P1', 'P3', 'P5', 'P7', 'P9', \n",
    "            'P2', 'P4', 'P6', 'P8', 'P10']\n",
    "occipital = ['PO7', 'PO3', 'O1',\n",
    "             'PO8', 'PO4', 'O2']"
   ]
  }
 ],
 "metadata": {
  "kernelspec": {
   "display_name": "Python (fods)",
   "language": "python",
   "name": "fods"
  },
  "language_info": {
   "codemirror_mode": {
    "name": "ipython",
    "version": 3
   },
   "file_extension": ".py",
   "mimetype": "text/x-python",
   "name": "python",
   "nbconvert_exporter": "python",
   "pygments_lexer": "ipython3",
   "version": "3.13.7"
  }
 },
 "nbformat": 4,
 "nbformat_minor": 5
}
