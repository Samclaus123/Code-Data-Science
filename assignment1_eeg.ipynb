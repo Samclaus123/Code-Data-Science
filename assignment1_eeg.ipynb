{
 "cells": [
  {
   "cell_type": "markdown",
   "id": "8548668d",
   "metadata": {},
   "source": [
    "\n",
    "# EEG Data Analysis Assignment\n"
   ]
  },
  {
   "cell_type": "markdown",
   "id": "a9693f3b",
   "metadata": {},
   "source": [
    "In this assignment you will analyze the EEG data that you collected yourself. There are different approaches to preprocessing. Here we will model our pipeline after this recent paper (check Methods): https://pmc.ncbi.nlm.nih.gov/articles/PMC10659264/pdf/nihpp-2023.11.07.566051v2.pdf."
   ]
  },
  {
   "cell_type": "markdown",
   "id": "fa9748b9",
   "metadata": {},
   "source": [
    "## Part 1: Put all data in BIDS format"
   ]
  },
  {
   "cell_type": "code",
   "execution_count": null,
   "id": "7e84ec3e",
   "metadata": {},
   "outputs": [
    {
     "name": "stdout",
     "output_type": "stream",
     "text": [
      "C:\\Users\\Gebruiker\\Desktop\\Code Data Science\\Code-Data-Science\\Code-Data-Science\\Code-Data-Science\n"
     ]
    }
   ],
   "source": [
    "import os, glob\n",
    "import numpy as np\n",
    "import pandas as pd\n",
    "import matplotlib.pyplot as plt\n",
    "import mne\n",
    "from mne_bids import BIDSPath, write_raw_bids, read_raw_bids\n",
    "\n",
    "# Define directories:\n",
    "project_dir = os.getcwd()\n",
    "print(project_dir)\n",
    "raw_dir = os.path.join(project_dir, 'raw')\n",
    "print(raw_dir)\n",
    "bids_dir = os.path.join(project_dir, 'bids')\n",
    "\n",
    "# Define event IDs:\n",
    "event_id = {\n",
    "    'A/standard': 1,\n",
    "    'A/oddball':  2,\n",
    "    'B/standard': 3,\n",
    "    'B/oddball':  4,\n",
    "}\n",
    "\n",
    "# subject ID\n",
    "subjects = [\"01\", '02', '03', '04', '05','06']"
   ]
  },
  {
   "cell_type": "markdown",
   "id": "0bcf7825",
   "metadata": {},
   "source": [
    "🔥 Please loop over filenames and put all raw data in BIDS format (look up what this means). You can use the functions ```BIDSPath``` and ```write_raw_bids```. We need to take care of a couple of things.\n",
    "\n",
    "First, after loading the raw EEG data, we need to change channels 'M1', 'M2', 'EXG7' and 'EXG8' to type 'misc', and channels 'UP', 'DOWN', 'LEFT' and 'RIGH' to type 'eog'. We also need to set the right montage ('biosemi64').\n",
    "\n",
    "Second, observe that ```write_raw_bids``` takes the \"events\" and \"event_id\" parameters. During EEG acquisition we always sent the same trigger (2) at every sound presentation. However, we would like to include information about state and stimulus, as per the dictionary called \"event_id\" (see previous cell). Please make sure to: (i) find all events in the eeg file, (ii) read information about state and stimulus ID in the corresponding \"*_events.tsv\" file, (iii) update the events according to \"event_id\", (iv) pass the \"events\" and \"event_id\" in ```write_raw_bids```.\n",
    "\n",
    "Third, look at all the json sidecar files, and check whether all information is correct. \n"
   ]
  },
  {
   "cell_type": "code",
   "execution_count": 2,
   "metadata": {},
   "outputs": [
    {
     "ename": "NameError",
     "evalue": "name 'raw_dir' is not defined",
     "output_type": "error",
     "traceback": [
      "\u001b[1;31m---------------------------------------------------------------------------\u001b[0m",
      "\u001b[1;31mNameError\u001b[0m                                 Traceback (most recent call last)",
      "Cell \u001b[1;32mIn[2], line 30\u001b[0m\n\u001b[0;32m     27\u001b[0m         raw\u001b[38;5;241m.\u001b[39mset_montage(\u001b[38;5;124m'\u001b[39m\u001b[38;5;124mbiosemi64\u001b[39m\u001b[38;5;124m'\u001b[39m, on_missing\u001b[38;5;241m=\u001b[39m\u001b[38;5;124m'\u001b[39m\u001b[38;5;124mignore\u001b[39m\u001b[38;5;124m'\u001b[39m)\n\u001b[0;32m     28\u001b[0m     \u001b[38;5;28;01mreturn\u001b[39;00m raw\n\u001b[1;32m---> 30\u001b[0m rawtobids(\u001b[43mraw_dir\u001b[49m)\n",
      "\u001b[1;31mNameError\u001b[0m: name 'raw_dir' is not defined"
     ]
    }
   ],
   "source": [
    "def rawtobids(raw_dir):\n",
    "    # Gebruik de bestaande bdf_files en subjects variabelen\n",
    "    bdf_files = glob.glob(os.path.join(raw_dir, \"*.bdf\"))\n",
    "    print(\"Gevonden bestanden:\", bdf_files)\n",
    "\n",
    "    for i, bdf_file in enumerate(bdf_files):\n",
    "        # lees BDF file\n",
    "        raw = mne.io.read_raw_bdf(bdf_file, preload=True)\n",
    "        \n",
    "        # bids path creëren\n",
    "        bids_path = BIDSPath(subject=subjects[i],\n",
    "                             root=bids_dir,\n",
    "                             datatype='eeg',\n",
    "                             extension='.bdf',\n",
    "                             suffix='eeg',\n",
    "                             task='experiment')  # Set the task name as required\n",
    "        # Convert naar BIDS\n",
    "        write_raw_bids(raw, bids_path, overwrite=True, allow_preload=True, format='EDF')\n",
    "        print(f\"Converted {bdf_file} to BIDS format.\")\n",
    "\n",
    "        misc = ['M1', 'M2', 'EXG7', 'EXG8'] \n",
    "        raw.set_channel_types({ch: 'misc' for ch in misc if ch in raw.ch_names}) #changes the channels type to misc\n",
    "        eog = ['UP', 'DOWN', 'LEFT', 'RIGHT']\n",
    "        raw.set_channel_types({ch: 'eog' for ch in eog if ch in raw.ch_names}) #changes the channels type to eog\n",
    "\n",
    "        #sets the montage to biosemi64\n",
    "        raw.set_montage('biosemi64', on_missing='ignore')\n",
    "    return raw\n",
    "\n",
    "rawtobids(raw_dir)"
   ]
  },
  {
   "cell_type": "code",
   "execution_count": null,
   "id": "2c5746fd",
   "metadata": {},
   "outputs": [],
   "source": [
    "# mernan code moet nog verwerkt worden in voorgaande stukje\n",
    "# Phase 2 events filteren en opslaan als nieuwe bestanden\n",
    "# Bestand inlezen\n",
    "df = pd.read_csv(\"1_2_2025_08_26_15_11_10_events.tsv\", sep=\"\\t\", dtype=str)\n",
    "\n",
    "# Filter: alleen rows waar phase == \"2\"\n",
    "filtered = df[df[\"phase\"].str.strip() == \"2\"]\n",
    "\n",
    "# Opslaan naar nieuwe bestanden\n",
    "filtered.to_csv(\"events_only_phase2.tsv\", sep=\"\\t\", index=False)\n",
    "filtered.to_csv(\"events_only_phase2.csv\", index=False)\n",
    "\n",
    "print(filtered.head())\n",
    "\n",
    "# Lees het gefilterde TSV-bestand in\n",
    "events_tsv = pd.read_csv(\"events_only_phase2.tsv\", sep=\"\\t\")\n",
    "\n",
    "# Maak een nieuwe lijst voor de aangepaste event codes zoals in de dictionary\n",
    "new_event_codes = []\n",
    "\n",
    "# Loop door de rijen van de DataFrame en wijs de juiste event code toe\n",
    "for st, fq in zip(events_tsv[\"state\"].astype(float), events_tsv[\"frequency\"].astype(float)):\n",
    "    if st == 1:  # reeks A\n",
    "        if fq == 2000:\n",
    "            new_event_codes.append(event_id[\"A/standard\"])\n",
    "        else:\n",
    "            new_event_codes.append(event_id[\"A/oddball\"])\n",
    "    elif st == -1:  # reeks B\n",
    "        if fq == 1000:\n",
    "            new_event_codes.append(event_id[\"B/standard\"])\n",
    "        else:\n",
    "            new_event_codes.append(event_id[\"B/oddball\"])\n",
    "    else:\n",
    "        new_event_codes.append(0)"
   ]
  },
  {
   "cell_type": "markdown",
   "id": "15eca94d",
   "metadata": {},
   "source": [
    "👉 **Question:** Why would we bother with storing our data in BIDS format?\n",
    "\n",
    "**Answer:**"
   ]
  },
  {
   "cell_type": "markdown",
   "id": "a19abd71",
   "metadata": {},
   "source": [
    "\n",
    "## Part 2: Preprocess example data set\n",
    "\n",
    "🔥 Please take an example block and load the eeg and events data (from the BIDS directory)."
   ]
  },
  {
   "cell_type": "code",
   "execution_count": 6,
   "id": "a32fa599",
   "metadata": {},
   "outputs": [
    {
     "name": "stdout",
     "output_type": "stream",
     "text": [
      "Gevonden bestanden: []\n"
     ]
    },
    {
     "ename": "IndexError",
     "evalue": "list index out of range",
     "output_type": "error",
     "traceback": [
      "\u001b[1;31m---------------------------------------------------------------------------\u001b[0m",
      "\u001b[1;31mIndexError\u001b[0m                                Traceback (most recent call last)",
      "Cell \u001b[1;32mIn[6], line 2\u001b[0m\n\u001b[0;32m      1\u001b[0m \u001b[38;5;66;03m# Your code goes here. Please add comments.\u001b[39;00m\n\u001b[1;32m----> 2\u001b[0m \u001b[43mrawtobids\u001b[49m\u001b[43m(\u001b[49m\u001b[43mraw_dir\u001b[49m\u001b[43m)\u001b[49m\n",
      "Cell \u001b[1;32mIn[5], line 7\u001b[0m, in \u001b[0;36mrawtobids\u001b[1;34m(raw_dir)\u001b[0m\n\u001b[0;32m      4\u001b[0m \u001b[38;5;28mprint\u001b[39m(\u001b[38;5;124m\"\u001b[39m\u001b[38;5;124mGevonden bestanden:\u001b[39m\u001b[38;5;124m\"\u001b[39m, bdf_files)\n\u001b[0;32m      6\u001b[0m \u001b[38;5;66;03m# lees BDF file\u001b[39;00m\n\u001b[1;32m----> 7\u001b[0m raw \u001b[38;5;241m=\u001b[39m mne\u001b[38;5;241m.\u001b[39mio\u001b[38;5;241m.\u001b[39mread_raw_bdf(\u001b[43mbdf_files\u001b[49m\u001b[43m[\u001b[49m\u001b[38;5;241;43m0\u001b[39;49m\u001b[43m]\u001b[49m, preload\u001b[38;5;241m=\u001b[39m\u001b[38;5;28;01mTrue\u001b[39;00m) \u001b[38;5;66;03m# load the first file of the bdf_files\u001b[39;00m\n\u001b[0;32m      9\u001b[0m misc \u001b[38;5;241m=\u001b[39m [\u001b[38;5;124m'\u001b[39m\u001b[38;5;124mM1\u001b[39m\u001b[38;5;124m'\u001b[39m, \u001b[38;5;124m'\u001b[39m\u001b[38;5;124mM2\u001b[39m\u001b[38;5;124m'\u001b[39m, \u001b[38;5;124m'\u001b[39m\u001b[38;5;124mEXG7\u001b[39m\u001b[38;5;124m'\u001b[39m, \u001b[38;5;124m'\u001b[39m\u001b[38;5;124mEXG8\u001b[39m\u001b[38;5;124m'\u001b[39m] \n\u001b[0;32m     10\u001b[0m raw\u001b[38;5;241m.\u001b[39mset_channel_types({ch: \u001b[38;5;124m'\u001b[39m\u001b[38;5;124mmisc\u001b[39m\u001b[38;5;124m'\u001b[39m \u001b[38;5;28;01mfor\u001b[39;00m ch \u001b[38;5;129;01min\u001b[39;00m misc \u001b[38;5;28;01mif\u001b[39;00m ch \u001b[38;5;129;01min\u001b[39;00m raw\u001b[38;5;241m.\u001b[39mch_names}) \u001b[38;5;66;03m#changes the channels type to misc\u001b[39;00m\n",
      "\u001b[1;31mIndexError\u001b[0m: list index out of range"
     ]
    }
   ],
   "source": [
    "# Your code goes here. Please add comments.\n",
    "rawtobids(raw_dir)"
   ]
  },
  {
   "cell_type": "markdown",
   "id": "12191d7f",
   "metadata": {},
   "source": [
    "🔥 Please plot the raw data. Show examples of (i) clean data, (ii) blinks (look at eog channels), and (iii) muscle artefacts. Print the shape of the data, and indicate what the dimensions correspond to. Print all channel names. Print all channel types."
   ]
  },
  {
   "cell_type": "code",
   "execution_count": null,
   "id": "ab66b120",
   "metadata": {},
   "outputs": [],
   "source": [
    "# Your code goes here. Please add comments.\n"
   ]
  },
  {
   "cell_type": "markdown",
   "id": "514beef8",
   "metadata": {},
   "source": [
    "👉 **Question:** What kind of information can you extract just from visually inspecting raw EEG traces?\n",
    "\n",
    "**Answer:**"
   ]
  },
  {
   "cell_type": "markdown",
   "id": "0ba77dac",
   "metadata": {},
   "source": [
    "🔥 Please set the channels 'M1', 'M2', 'EXG7' and 'EXG8' to type 'misc', and channels 'UP', 'DOWN', 'LEFT' and 'RIGH' to type 'eog'. Also set the right montage, and plot this. \n",
    "\n",
    "PS: Yes, it is annoying that we did this before. This information did end up correctly in the json sidecar files (check this), but not in the *eeg.bdf files."
   ]
  },
  {
   "cell_type": "code",
   "execution_count": 5,
   "id": "202cde29",
   "metadata": {},
   "outputs": [],
   "source": [
    "# Your code goes here. Please add comments."
   ]
  },
  {
   "cell_type": "markdown",
   "id": "865bcff2",
   "metadata": {},
   "source": [
    "🔥 Please re-reference the EEG data to the average of the two mastoids."
   ]
  },
  {
   "cell_type": "code",
   "execution_count": 6,
   "id": "ee5eb871",
   "metadata": {},
   "outputs": [],
   "source": [
    "# Your code goes here. Please add comments."
   ]
  },
  {
   "cell_type": "markdown",
   "id": "bb1f6b9d",
   "metadata": {},
   "source": [
    "👉 **Question:** Why would you want to re-reference the EEG data? What are common approaches? What are advantages and disadvantages of each?\n",
    "\n",
    "**Answer:**"
   ]
  },
  {
   "cell_type": "markdown",
   "id": "f3c6d32c",
   "metadata": {},
   "source": [
    "🔥 Please combine eog channels into bipolar horizontal (\"HEOG\") and vertical (\"VEOG\") EOG derivations. Check if the resulting channel type is correct."
   ]
  },
  {
   "cell_type": "code",
   "execution_count": 7,
   "id": "7739f95e",
   "metadata": {},
   "outputs": [],
   "source": [
    "# Your code goes here. Please add comments."
   ]
  },
  {
   "cell_type": "markdown",
   "id": "9377ed8a",
   "metadata": {},
   "source": [
    "👉 **Question:** Why do we take the difference between for example the UP and DOWN electrode?\n",
    "\n",
    "**Answer:** "
   ]
  },
  {
   "cell_type": "markdown",
   "id": "a1066abe",
   "metadata": {},
   "source": [
    "🔥 Please apply a bandpass filter. Look up what a bandpass filter is, and use common cutoffs for EEG."
   ]
  },
  {
   "cell_type": "code",
   "execution_count": 8,
   "id": "5a842e92",
   "metadata": {},
   "outputs": [],
   "source": [
    "# Your code goes here. Please add comments."
   ]
  },
  {
   "cell_type": "markdown",
   "id": "6ad8a0c0",
   "metadata": {},
   "source": [
    "👉 **Question:** Why should we filter EEG data? What type of temporal filters are typically applied, and what are common cut-offs? \n",
    "\n",
    "**Answer:**"
   ]
  },
  {
   "cell_type": "markdown",
   "id": "f58669cd",
   "metadata": {},
   "source": [
    "🔥 Please downsample the EEG data to 250Hz."
   ]
  },
  {
   "cell_type": "code",
   "execution_count": 9,
   "id": "7ff6c1a3",
   "metadata": {},
   "outputs": [],
   "source": [
    "# Your code goes here. Please add comments."
   ]
  },
  {
   "cell_type": "markdown",
   "id": "0d9eefd1",
   "metadata": {},
   "source": [
    "👉 **Question:** What are the advantages of downsampling, and why does 250Hz makes sense?\n",
    "\n",
    "**Answer:**"
   ]
  },
  {
   "cell_type": "markdown",
   "id": "7dc72a75",
   "metadata": {},
   "source": [
    "🔥 Please perform independent component analysis and plot the components."
   ]
  },
  {
   "cell_type": "code",
   "execution_count": 10,
   "id": "ec6296a0",
   "metadata": {},
   "outputs": [],
   "source": [
    "# Your code goes here. Please add comments."
   ]
  },
  {
   "cell_type": "markdown",
   "id": "910e6352",
   "metadata": {},
   "source": [
    "👉 **Question:** What does this plot show?  \n",
    "\n",
    "**Answer:** \n"
   ]
  },
  {
   "cell_type": "markdown",
   "id": "ed91fabc",
   "metadata": {},
   "source": [
    "🔥 Please remove components associated with blinks and eye movements. Include diagnostic figures (check with plotting methods exists for ica objects)."
   ]
  },
  {
   "cell_type": "code",
   "execution_count": 11,
   "id": "1a0490ed",
   "metadata": {},
   "outputs": [],
   "source": [
    "# Your code goes here. Please add comments."
   ]
  },
  {
   "cell_type": "markdown",
   "id": "bf73d4e6",
   "metadata": {},
   "source": [
    "👉 **Question:** What do these plot show?  \n",
    "\n",
    "**Answer:** "
   ]
  },
  {
   "cell_type": "markdown",
   "id": "cbc39c26",
   "metadata": {},
   "source": [
    "🔥 Please plot the same bit of data, before and after ica-based artefact removal."
   ]
  },
  {
   "cell_type": "code",
   "execution_count": 12,
   "id": "0d1c95f5",
   "metadata": {},
   "outputs": [],
   "source": [
    "# Your code goes here. Please add comments."
   ]
  },
  {
   "cell_type": "markdown",
   "id": "d178ae77",
   "metadata": {},
   "source": [
    "\n",
    "👉 **Question:** What kinds of artifacts can ICA help to remove in EEG data? Why do we want to do this? \n",
    "\n",
    "**Answer:**"
   ]
  },
  {
   "cell_type": "markdown",
   "id": "15e68e2e",
   "metadata": {},
   "source": [
    "🔥 Please epoch the cleaned data (make sure to use \"event_id\"), by cutting out segments from 500ms before each sound to 1000ms after. Plot the resulting epochs object."
   ]
  },
  {
   "cell_type": "code",
   "execution_count": 13,
   "id": "ab611da5",
   "metadata": {},
   "outputs": [],
   "source": [
    "# Your code goes here. Please add comments."
   ]
  },
  {
   "cell_type": "markdown",
   "id": "027ccfdf",
   "metadata": {},
   "source": [
    "\n",
    "👉 **Question:** Why do we extract epochs relative to events?  \n",
    "\n",
    "**Answer:**\n"
   ]
  },
  {
   "cell_type": "markdown",
   "id": "c4ad6b58",
   "metadata": {},
   "source": [
    "## Part 3: Preprocess all the data\n",
    "\n",
    "🔥 Please put all the code we wrote so far in function called ```preprocess_eeg_data```. The function should take \"bids_path\" as input and return \"epochs\", You can then loop across all data and concatenate all the epochs."
   ]
  },
  {
   "cell_type": "code",
   "execution_count": 14,
   "id": "0daa7a32",
   "metadata": {},
   "outputs": [],
   "source": [
    "# Your code goes here. Please add comments."
   ]
  },
  {
   "cell_type": "markdown",
   "id": "73f646b5",
   "metadata": {},
   "source": [
    "## Part 4: Analyze the data\n",
    "\n",
    "🔥 Please define the following sensor groupings: frontal, central, temporal, parietal and occipital."
   ]
  },
  {
   "cell_type": "code",
   "execution_count": 70,
   "id": "40348081",
   "metadata": {},
   "outputs": [],
   "source": [
    "# define sensor groupings:\n",
    "frontal = ['Fp1', 'AF7', 'AF3', 'F1', 'F3', 'F5', 'F7',\n",
    "           'Fp2', 'AF8', 'AF4', 'F2', 'F4', 'F6', 'F8']\n",
    "central = ['FC5', 'FC3', 'FC1', 'C1', 'C3', 'C5', 'CP5', 'CP3', 'CP1',\n",
    "           'FC6', 'FC4', 'FC2', 'C2', 'C4', 'C6', 'CP6', 'CP4', 'CP2']\n",
    "temporal = ['FT7', 'T7', 'TP7', 'FT8', 'T8', 'TP8',]\n",
    "parietal = ['P1', 'P3', 'P5', 'P7', 'P9', \n",
    "            'P2', 'P4', 'P6', 'P8', 'P10']\n",
    "occipital = ['PO7', 'PO3', 'O1',\n",
    "             'PO8', 'PO4', 'O2']"
   ]
  }
 ],
 "metadata": {
  "kernelspec": {
   "display_name": "Python 3 (ipykernel)",
   "language": "python",
   "name": "python3"
  },
  "language_info": {
   "codemirror_mode": {
    "name": "ipython",
    "version": 3
   },
   "file_extension": ".py",
   "mimetype": "text/x-python",
   "name": "python",
   "nbconvert_exporter": "python",
   "pygments_lexer": "ipython3",
   "version": "3.13.7"
  }
 },
 "nbformat": 4,
 "nbformat_minor": 5
}
